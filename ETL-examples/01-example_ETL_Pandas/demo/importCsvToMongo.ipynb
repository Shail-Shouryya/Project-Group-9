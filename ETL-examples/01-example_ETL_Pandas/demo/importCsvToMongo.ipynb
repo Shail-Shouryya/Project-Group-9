{
 "cells": [
  {
   "cell_type": "code",
   "execution_count": 3,
   "metadata": {},
   "outputs": [],
   "source": [
    "#!/usr/bin/env python\n",
    "import sys\n",
    "import pandas as pd\n",
    "import pymongo\n",
    "import json"
   ]
  },
  {
   "cell_type": "code",
   "execution_count": 5,
   "metadata": {},
   "outputs": [],
   "source": [
    "def import_content(filepath):\n",
    "    mng_client = pymongo.MongoClient('localhost', 27017)\n",
    "    mng_db = mng_client['test'] #// Replace mongo db name\n",
    "    collection_name = 'weTesting' #// Replace mongo db collection name\n",
    "    db_cm = mng_db[weTesting]\n",
    "    #cdir = os.path.dirname(__file__)\n",
    "    #file_res = os.path.join(cdir, filepath)\n",
    "    file_res = filepath\n",
    "\n",
    "    \n",
    "    data = pd.read_csv(file_res)\n",
    "    data_json = json.loads(data.to_json(orient='records'))\n",
    "    db_cm.remove()\n",
    "    db_cm.insert(data_json)\n"
   ]
  },
  {
   "cell_type": "code",
   "execution_count": 6,
   "metadata": {},
   "outputs": [
    {
     "ename": "NameError",
     "evalue": "name 'weTesting' is not defined",
     "output_type": "error",
     "traceback": [
      "\u001b[1;31m-------------------------------------------------------------------------\u001b[0m",
      "\u001b[1;31mNameError\u001b[0m                               Traceback (most recent call last)",
      "\u001b[1;32m<ipython-input-6-94729362dd37>\u001b[0m in \u001b[0;36m<module>\u001b[1;34m()\u001b[0m\n\u001b[0;32m      3\u001b[0m     \u001b[0mfilepath1\u001b[0m \u001b[1;33m=\u001b[0m \u001b[1;34m'AAII-AAII_SENTIMENT.csv'\u001b[0m  \u001b[1;31m#// pass csv file path\u001b[0m\u001b[1;33m\u001b[0m\u001b[0m\n\u001b[0;32m      4\u001b[0m     \u001b[0mfilepath2\u001b[0m \u001b[1;33m=\u001b[0m \u001b[1;34m'EIA-SEDS_TETCB_US_A.csv'\u001b[0m  \u001b[1;31m#// pass csv file path\u001b[0m\u001b[1;33m\u001b[0m\u001b[0m\n\u001b[1;32m----> 5\u001b[1;33m     \u001b[0mimport_content\u001b[0m\u001b[1;33m(\u001b[0m\u001b[0mfilepath1\u001b[0m\u001b[1;33m)\u001b[0m\u001b[1;33m\u001b[0m\u001b[0m\n\u001b[0m\u001b[0;32m      6\u001b[0m     \u001b[0mimport_content\u001b[0m\u001b[1;33m(\u001b[0m\u001b[0mfilepath2\u001b[0m\u001b[1;33m)\u001b[0m\u001b[1;33m\u001b[0m\u001b[0m\n",
      "\u001b[1;32m<ipython-input-5-42fcb2a4abb1>\u001b[0m in \u001b[0;36mimport_content\u001b[1;34m(filepath)\u001b[0m\n\u001b[0;32m      3\u001b[0m     \u001b[0mmng_db\u001b[0m \u001b[1;33m=\u001b[0m \u001b[0mmng_client\u001b[0m\u001b[1;33m[\u001b[0m\u001b[1;34m'test'\u001b[0m\u001b[1;33m]\u001b[0m \u001b[1;31m#// Replace mongo db name\u001b[0m\u001b[1;33m\u001b[0m\u001b[0m\n\u001b[0;32m      4\u001b[0m     \u001b[0mcollection_name\u001b[0m \u001b[1;33m=\u001b[0m \u001b[1;34m'weTesting'\u001b[0m \u001b[1;31m#// Replace mongo db collection name\u001b[0m\u001b[1;33m\u001b[0m\u001b[0m\n\u001b[1;32m----> 5\u001b[1;33m     \u001b[0mdb_cm\u001b[0m \u001b[1;33m=\u001b[0m \u001b[0mmng_db\u001b[0m\u001b[1;33m[\u001b[0m\u001b[0mweTesting\u001b[0m\u001b[1;33m]\u001b[0m\u001b[1;33m\u001b[0m\u001b[0m\n\u001b[0m\u001b[0;32m      6\u001b[0m     \u001b[1;31m#cdir = os.path.dirname(__file__)\u001b[0m\u001b[1;33m\u001b[0m\u001b[1;33m\u001b[0m\u001b[0m\n\u001b[0;32m      7\u001b[0m     \u001b[1;31m#file_res = os.path.join(cdir, filepath)\u001b[0m\u001b[1;33m\u001b[0m\u001b[1;33m\u001b[0m\u001b[0m\n",
      "\u001b[1;31mNameError\u001b[0m: name 'weTesting' is not defined"
     ]
    }
   ],
   "source": [
    "\n",
    "if __name__ == \"__main__\":\n",
    "    filepath1 = 'AAII-AAII_SENTIMENT.csv'  #// pass csv file path\n",
    "    filepath2 = 'EIA-SEDS_TETCB_US_A.csv'  #// pass csv file path\n",
    "    import_content(filepath1)\n",
    "    import_content(filepath2)"
   ]
  },
  {
   "cell_type": "code",
   "execution_count": 10,
   "metadata": {},
   "outputs": [],
   "source": [
    "from odo import odo\n",
    "#>>> odo(source, target)  # load source into target"
   ]
  },
  {
   "cell_type": "code",
   "execution_count": null,
   "metadata": {},
   "outputs": [],
   "source": [
    "odo('mongodb://hostname/db::collection') # Dump Mongo to DataFrame"
   ]
  }
 ],
 "metadata": {
  "kernelspec": {
   "display_name": "Python 3",
   "language": "python",
   "name": "python3"
  },
  "language_info": {
   "codemirror_mode": {
    "name": "ipython",
    "version": 3
   },
   "file_extension": ".py",
   "mimetype": "text/x-python",
   "name": "python",
   "nbconvert_exporter": "python",
   "pygments_lexer": "ipython3",
   "version": "3.6.4"
  }
 },
 "nbformat": 4,
 "nbformat_minor": 2
}
