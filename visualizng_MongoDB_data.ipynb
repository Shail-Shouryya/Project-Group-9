{
 "cells": [
  {
   "cell_type": "code",
   "execution_count": 1,
   "metadata": {},
   "outputs": [],
   "source": [
    "import pandas as pd\n",
    "from sqlalchemy import create_engine\n",
    "from datetime import datetime\n",
    "#####\n",
    "import matplotlib.pyplot as plt\n",
    "import numpy as np"
   ]
  },
  {
   "cell_type": "code",
   "execution_count": null,
   "metadata": {},
   "outputs": [],
   "source": []
  },
  {
   "cell_type": "code",
   "execution_count": 3,
   "metadata": {},
   "outputs": [
    {
     "data": {
      "image/png": "[encoded data removed]",
      "text/plain": [
       "<matplotlib.figure.Figure at 0x15bc3efabe0>"
      ]
     },
     "metadata": {},
     "output_type": "display_data"
    }
   ],
   "source": [
    "import numpy as np\n",
    "import matplotlib.pyplot as plt\n",
    "\n",
    "## OHLC Data\n",
    "open =  np.array([479.09, 499.11, 478.96, 468.63, 449.13, 460.74, 457.99, 449.52, 479.33, 471.89])\n",
    "high =  np.array([511.67, 515.28, 484.36, 469.94, 468.90, 471.88, 470.60, 484.52, 485.28, 484.87])\n",
    "low =   np.array([465.14, 469.17, 462.64, 439.52, 441.37, 455.00, 446.00, 448.62, 464.28, 458.74])\n",
    "close = np.array([499.11, 478.97, 468.64, 449.13, 460.74, 457.99, 449.60, 479.33, 471.89, 462.30])\n",
    "\n",
    "\n",
    "\n",
    "n_groups = open.size            # number of bars\n",
    "index = np.arange(n_groups)     # evenly space each bar\n",
    "\n",
    "## Create Plot Figure\n",
    "fig, ax = plt.subplots()\n",
    "\n",
    "## Translate OHLC Data to Bar Graph Data\n",
    "bar_height = np.absolute(open - close)\n",
    "bar_bottom  = np.minimum(open, close)\n",
    "\n",
    "yerr_high = high - np.maximum(open,close)\n",
    "yerr_low =  np.minimum(open,close) - low + bar_height\n",
    "\n",
    "bar_width = 0.5\n",
    "\n",
    "## Color\n",
    "\n",
    "\n",
    "## Set Chart Alpha Levels\n",
    "opacity = 1\n",
    "error_config = {'alpha': opacity}\n",
    "\n",
    "rects1 = ax.bar(\n",
    "            index,                                 # X Coordinate of bars\n",
    "\n",
    "            bar_height,                            # [Largest Price,] (Open/Close)\n",
    "            bar_width,                             # bar width\n",
    "            bar_bottom,                            # [Smallest Price,] (Open/Close)\n",
    "            alpha = opacity,                       # bar alpha level\n",
    "\n",
    "            error_kw = error_config,               # kwargs to be passed to the errorbar method\n",
    "            yerr = [yerr_low, yerr_high]           # error bar [Low Price, ], [High Price, ]\n",
    "            )\n",
    "\n",
    "## Set Chart Axis and Title\n",
    "ax.set_xlabel('Date')\n",
    "ax.set_ylabel('Price')\n",
    "ax.set_title('Candlestick Chart')\n",
    "ax.set_xticks(index)\n",
    "\n",
    "## Plot Chart\n",
    "fig.tight_layout()\n",
    "plt.show()"
   ]
  },
  {
   "cell_type": "code",
   "execution_count": null,
   "metadata": {},
   "outputs": [],
   "source": []
  },
  {
   "cell_type": "code",
   "execution_count": null,
   "metadata": {},
   "outputs": [],
   "source": []
  },
  {
   "cell_type": "code",
   "execution_count": null,
   "metadata": {},
   "outputs": [],
   "source": []
  },
  {
   "cell_type": "code",
   "execution_count": null,
   "metadata": {},
   "outputs": [],
   "source": []
  },
  {
   "cell_type": "code",
   "execution_count": null,
   "metadata": {},
   "outputs": [],
   "source": []
  },
  {
   "cell_type": "code",
   "execution_count": null,
   "metadata": {},
   "outputs": [],
   "source": []
  },
  {
   "cell_type": "code",
   "execution_count": null,
   "metadata": {},
   "outputs": [],
   "source": []
  }
 ],
 "metadata": {
  "kernelspec": {
   "display_name": "Python 3",
   "language": "python",
   "name": "python3"
  },
  "language_info": {
   "codemirror_mode": {
    "name": "ipython",
    "version": 3
   },
   "file_extension": ".py",
   "mimetype": "text/x-python",
   "name": "python",
   "nbconvert_exporter": "python",
   "pygments_lexer": "ipython3",
   "version": "3.6.4"
  }
 },
 "nbformat": 4,
 "nbformat_minor": 2
}
